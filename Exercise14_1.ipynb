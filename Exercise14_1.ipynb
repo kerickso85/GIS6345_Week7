{
 "cells": [
  {
   "cell_type": "code",
   "execution_count": 15,
   "metadata": {},
   "outputs": [],
   "source": [
    "def sed(pattern, replace, file1, file2): #define function with four input parameters\n",
    "    source=open(file1, 'r') #reads the first file into a string variable\n",
    "    result=open(file2, 'w') #writes the results into an existing file, or creates it if it doesnt exist\n",
    "    #print(type(result)) #debug statement\n",
    "    \n",
    "    for line in source:\n",
    "        line = line.replace(pattern, replace) #for every time the 'pattern' string appears in source file, replace it with the 'replace' string\n",
    "        result.write(line) #appends the replacement string to the result file\n",
    "    \n",
    "    source.close() #close the files so result can be displayed without ending the notebook experiment\n",
    "    result.close() \n",
    "    \n",
    "    test_the_file=open('file2.txt').read() #open the newly created (or modified) file\n",
    "    #print(type(test_the_file)) debug statement for sanity check\n",
    "    print(test_the_file) \n",
    "    "
   ]
  },
  {
   "cell_type": "code",
   "execution_count": null,
   "metadata": {},
   "outputs": [],
   "source": []
  }
 ],
 "metadata": {
  "kernelspec": {
   "display_name": "Python 3",
   "language": "python",
   "name": "python3"
  },
  "language_info": {
   "codemirror_mode": {
    "name": "ipython",
    "version": 3
   },
   "file_extension": ".py",
   "mimetype": "text/x-python",
   "name": "python",
   "nbconvert_exporter": "python",
   "pygments_lexer": "ipython3",
   "version": "3.6.9"
  }
 },
 "nbformat": 4,
 "nbformat_minor": 2
}
